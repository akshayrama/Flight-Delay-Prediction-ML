{
 "cells": [
  {
   "cell_type": "code",
   "execution_count": 5,
   "metadata": {},
   "outputs": [],
   "source": [
    "import numpy\n",
    "import pandas as pd\n",
    "from sklearn.model_selection import train_test_split\n",
    "from sklearn.linear_model import LinearRegression\n",
    "from xgboost import XGBRegressor\n",
    "from sklearn.metrics import mean_absolute_error\n",
    "from sklearn.metrics import mean_squared_error\n",
    "from math import sqrt\n",
    "from sklearn.ensemble import ExtraTreesRegressor\n",
    "from sklearn.ensemble import RandomForestRegressor"
   ]
  },
  {
   "cell_type": "code",
   "execution_count": 6,
   "metadata": {},
   "outputs": [],
   "source": [
    "df = pd.read_csv('D:/Downloads/df2016.csv')"
   ]
  },
  {
   "cell_type": "code",
   "execution_count": 7,
   "metadata": {},
   "outputs": [],
   "source": [
    "df['FlightDate'] = pd.to_datetime(df['FlightDate'])\n",
    "df['FlightArrDate'] = pd.to_datetime(df['FlightArrDate'])\n",
    "df['Origin'] = str(df['Origin'])\n",
    "df['Dest'] = str(df['Dest'])"
   ]
  },
  {
   "cell_type": "code",
   "execution_count": 8,
   "metadata": {},
   "outputs": [
    {
     "data": {
      "text/plain": [
       "(936841, 46)"
      ]
     },
     "execution_count": 8,
     "metadata": {},
     "output_type": "execute_result"
    }
   ],
   "source": [
    "df.shape"
   ]
  },
  {
   "cell_type": "code",
   "execution_count": 9,
   "metadata": {},
   "outputs": [],
   "source": [
    "#Using only dataframe rows where there is an arrival delay\n",
    "df = df[df['ArrDel15'] == 1]"
   ]
  },
  {
   "cell_type": "code",
   "execution_count": 10,
   "metadata": {},
   "outputs": [
    {
     "data": {
      "text/plain": [
       "(192487, 46)"
      ]
     },
     "execution_count": 10,
     "metadata": {},
     "output_type": "execute_result"
    }
   ],
   "source": [
    "df.shape"
   ]
  },
  {
   "cell_type": "code",
   "execution_count": 11,
   "metadata": {},
   "outputs": [],
   "source": [
    "import numpy as np\n",
    "df['index'] = np.arange(len(df)) "
   ]
  },
  {
   "cell_type": "code",
   "execution_count": 12,
   "metadata": {},
   "outputs": [],
   "source": [
    "#Building regressor model for predicting arrival delay beforehand\n",
    "df_using = df[['pressure_x','pressure_y','DewPointF_y','DewPointF_x','WindChillF_x','WindChillF_y','RoundedCRSDepTime','WindGustKmph_y','precipMM_x','precipMM_y','humidity_y','tempF_y','windspeedKmph_y','windspeedKmph_x','weatherCode_x','WindGustKmph_x','humidity_x','tempF_x','weatherCode_y','RoundedCRSArrTime']]"
   ]
  },
  {
   "cell_type": "code",
   "execution_count": 13,
   "metadata": {},
   "outputs": [
    {
     "data": {
      "text/plain": [
       "(192487, 20)"
      ]
     },
     "execution_count": 13,
     "metadata": {},
     "output_type": "execute_result"
    }
   ],
   "source": [
    "df_using.shape"
   ]
  },
  {
   "cell_type": "code",
   "execution_count": 14,
   "metadata": {},
   "outputs": [
    {
     "data": {
      "text/plain": [
       "Index(['pressure_x', 'pressure_y', 'DewPointF_y', 'DewPointF_x',\n",
       "       'WindChillF_x', 'WindChillF_y', 'RoundedCRSDepTime', 'WindGustKmph_y',\n",
       "       'precipMM_x', 'precipMM_y', 'humidity_y', 'tempF_y', 'windspeedKmph_y',\n",
       "       'windspeedKmph_x', 'weatherCode_x', 'WindGustKmph_x', 'humidity_x',\n",
       "       'tempF_x', 'weatherCode_y', 'RoundedCRSArrTime'],\n",
       "      dtype='object')"
      ]
     },
     "execution_count": 14,
     "metadata": {},
     "output_type": "execute_result"
    }
   ],
   "source": [
    "df_using.columns"
   ]
  },
  {
   "cell_type": "code",
   "execution_count": 15,
   "metadata": {},
   "outputs": [],
   "source": [
    "X_train,X_test,y_train,y_test = train_test_split(df_using,df.ArrDelayMinutes,random_state = 42,test_size = 0.2)"
   ]
  },
  {
   "cell_type": "code",
   "execution_count": 26,
   "metadata": {},
   "outputs": [
    {
     "name": "stderr",
     "output_type": "stream",
     "text": [
      "D:\\Anaconda3\\lib\\site-packages\\xgboost\\core.py:587: FutureWarning: Series.base is deprecated and will be removed in a future version\n",
      "  if getattr(data, 'base', None) is not None and \\\n"
     ]
    },
    {
     "name": "stdout",
     "output_type": "stream",
     "text": [
      "[23:49:36] WARNING: C:/Jenkins/workspace/xgboost-win64_release_0.90/src/objective/regression_obj.cu:152: reg:linear is now deprecated in favor of reg:squarederror.\n"
     ]
    }
   ],
   "source": [
    "# XGB Regressor\n",
    "regressor_model =  XGBRegressor()\n",
    "regressor_model.fit(X_train,y_train)\n",
    "y_pred = regressor_model.predict(X_test)"
   ]
  },
  {
   "cell_type": "code",
   "execution_count": 27,
   "metadata": {},
   "outputs": [
    {
     "data": {
      "text/plain": [
       "0.028966546222635947"
      ]
     },
     "execution_count": 27,
     "metadata": {},
     "output_type": "execute_result"
    }
   ],
   "source": [
    "regressor_model.score(X_test,y_test)"
   ]
  },
  {
   "cell_type": "code",
   "execution_count": 18,
   "metadata": {},
   "outputs": [
    {
     "data": {
      "text/plain": [
       "42.13784705824007"
      ]
     },
     "execution_count": 18,
     "metadata": {},
     "output_type": "execute_result"
    }
   ],
   "source": [
    "mean_absolute_error(y_test,y_pred)"
   ]
  },
  {
   "cell_type": "code",
   "execution_count": 19,
   "metadata": {},
   "outputs": [
    {
     "data": {
      "text/plain": [
       "71.97279981500817"
      ]
     },
     "execution_count": 19,
     "metadata": {},
     "output_type": "execute_result"
    }
   ],
   "source": [
    "sqrt(mean_squared_error(y_test, y_pred))"
   ]
  },
  {
   "cell_type": "code",
   "execution_count": 20,
   "metadata": {},
   "outputs": [
    {
     "name": "stderr",
     "output_type": "stream",
     "text": [
      "D:\\Anaconda3\\lib\\site-packages\\sklearn\\ensemble\\forest.py:246: FutureWarning: The default value of n_estimators will change from 10 in version 0.20 to 100 in 0.22.\n",
      "  \"10 in version 0.20 to 100 in 0.22.\", FutureWarning)\n"
     ]
    }
   ],
   "source": [
    "#Extra Trees Regressor\n",
    "regressor_model = ExtraTreesRegressor()\n",
    "regressor_model.fit(X_train,y_train)\n",
    "y_pred = regressor_model.predict(X_test)"
   ]
  },
  {
   "cell_type": "code",
   "execution_count": 21,
   "metadata": {},
   "outputs": [
    {
     "data": {
      "text/plain": [
       "45.62552708365802"
      ]
     },
     "execution_count": 21,
     "metadata": {},
     "output_type": "execute_result"
    }
   ],
   "source": [
    "mean_absolute_error(y_test,y_pred)"
   ]
  },
  {
   "cell_type": "code",
   "execution_count": 22,
   "metadata": {},
   "outputs": [
    {
     "data": {
      "text/plain": [
       "76.91139802237743"
      ]
     },
     "execution_count": 22,
     "metadata": {},
     "output_type": "execute_result"
    }
   ],
   "source": [
    "sqrt(mean_squared_error(y_test, y_pred))"
   ]
  },
  {
   "cell_type": "code",
   "execution_count": 20,
   "metadata": {},
   "outputs": [],
   "source": [
    "#Linear Regression\n",
    "from sklearn.linear_model import LinearRegression"
   ]
  },
  {
   "cell_type": "code",
   "execution_count": 72,
   "metadata": {},
   "outputs": [],
   "source": [
    "regressor_model = LinearRegression()\n",
    "regressor_model.fit(X_train,y_train)\n",
    "y_pred = regressor_model.predict(X_test)"
   ]
  },
  {
   "cell_type": "code",
   "execution_count": 59,
   "metadata": {},
   "outputs": [
    {
     "data": {
      "text/plain": [
       "42.583918514071634"
      ]
     },
     "execution_count": 59,
     "metadata": {},
     "output_type": "execute_result"
    }
   ],
   "source": [
    "mean_absolute_error(y_test,y_pred)"
   ]
  },
  {
   "cell_type": "code",
   "execution_count": 60,
   "metadata": {},
   "outputs": [
    {
     "data": {
      "text/plain": [
       "72.47760098484636"
      ]
     },
     "execution_count": 60,
     "metadata": {},
     "output_type": "execute_result"
    }
   ],
   "source": [
    "sqrt(mean_squared_error(y_test, y_pred))"
   ]
  },
  {
   "cell_type": "code",
   "execution_count": 24,
   "metadata": {},
   "outputs": [],
   "source": [
    "# Earlier we have predicted the arrival delays beforehand. \n",
    "# Now we shall feed the departure delay into the model in order to estimate the arrival delay \n",
    "# after the flight has taken off"
   ]
  },
  {
   "cell_type": "code",
   "execution_count": 14,
   "metadata": {},
   "outputs": [],
   "source": [
    "df_using = df[['pressure_x','DepDelayMinutes','pressure_y','DewPointF_y','DewPointF_x','WindChillF_x','WindChillF_y','RoundedCRSDepTime','WindGustKmph_y','precipMM_x','precipMM_y','humidity_y','tempF_y','windspeedKmph_y','windspeedKmph_x','weatherCode_x','WindGustKmph_x','humidity_x','tempF_x','weatherCode_y','RoundedCRSArrTime']]"
   ]
  },
  {
   "cell_type": "code",
   "execution_count": 15,
   "metadata": {},
   "outputs": [],
   "source": [
    "X_train,X_test,y_train,y_test = train_test_split(df_using,df.ArrDelayMinutes,random_state = 42,test_size = 0.2)"
   ]
  },
  {
   "cell_type": "code",
   "execution_count": 16,
   "metadata": {},
   "outputs": [
    {
     "name": "stderr",
     "output_type": "stream",
     "text": [
      "D:\\Anaconda3\\lib\\site-packages\\xgboost\\core.py:587: FutureWarning: Series.base is deprecated and will be removed in a future version\n",
      "  if getattr(data, 'base', None) is not None and \\\n"
     ]
    },
    {
     "name": "stdout",
     "output_type": "stream",
     "text": [
      "[01:29:48] WARNING: C:/Jenkins/workspace/xgboost-win64_release_0.90/src/objective/regression_obj.cu:152: reg:linear is now deprecated in favor of reg:squarederror.\n"
     ]
    }
   ],
   "source": [
    "# XGB Regressor\n",
    "regressor_model =  XGBRegressor()\n",
    "regressor_model.fit(X_train,y_train)\n",
    "y_pred = regressor_model.predict(X_test)"
   ]
  },
  {
   "cell_type": "code",
   "execution_count": 17,
   "metadata": {},
   "outputs": [
    {
     "data": {
      "text/plain": [
       "0.9479347228803195"
      ]
     },
     "execution_count": 17,
     "metadata": {},
     "output_type": "execute_result"
    }
   ],
   "source": [
    "regressor_model.score(X_test,y_test)"
   ]
  },
  {
   "cell_type": "code",
   "execution_count": 18,
   "metadata": {},
   "outputs": [
    {
     "data": {
      "text/plain": [
       "11.393937161188138"
      ]
     },
     "execution_count": 18,
     "metadata": {},
     "output_type": "execute_result"
    }
   ],
   "source": [
    "mean_absolute_error(y_test,y_pred)"
   ]
  },
  {
   "cell_type": "code",
   "execution_count": 19,
   "metadata": {},
   "outputs": [
    {
     "data": {
      "text/plain": [
       "16.665770365712643"
      ]
     },
     "execution_count": 19,
     "metadata": {},
     "output_type": "execute_result"
    }
   ],
   "source": [
    "sqrt(mean_squared_error(y_test, y_pred))"
   ]
  },
  {
   "cell_type": "code",
   "execution_count": 78,
   "metadata": {},
   "outputs": [],
   "source": [
    "#Linear Regressor\n",
    "regressor_model = LinearRegression()\n",
    "regressor_model.fit(X_train,y_train)\n",
    "y_pred = regressor_model.predict(X_test)"
   ]
  },
  {
   "cell_type": "code",
   "execution_count": 79,
   "metadata": {},
   "outputs": [
    {
     "data": {
      "text/plain": [
       "0.9273623207177649"
      ]
     },
     "execution_count": 79,
     "metadata": {},
     "output_type": "execute_result"
    }
   ],
   "source": [
    "regressor_model.score(X_test,y_test)"
   ]
  },
  {
   "cell_type": "code",
   "execution_count": 80,
   "metadata": {},
   "outputs": [
    {
     "data": {
      "text/plain": [
       "14.282202647092149"
      ]
     },
     "execution_count": 80,
     "metadata": {},
     "output_type": "execute_result"
    }
   ],
   "source": [
    "mean_absolute_error(y_test,y_pred)"
   ]
  },
  {
   "cell_type": "code",
   "execution_count": 81,
   "metadata": {},
   "outputs": [
    {
     "data": {
      "text/plain": [
       "19.684857783853985"
      ]
     },
     "execution_count": 81,
     "metadata": {},
     "output_type": "execute_result"
    }
   ],
   "source": [
    "sqrt(mean_squared_error(y_test, y_pred))"
   ]
  },
  {
   "cell_type": "code",
   "execution_count": 39,
   "metadata": {},
   "outputs": [
    {
     "name": "stderr",
     "output_type": "stream",
     "text": [
      "D:\\Anaconda3\\lib\\site-packages\\sklearn\\ensemble\\forest.py:246: FutureWarning: The default value of n_estimators will change from 10 in version 0.20 to 100 in 0.22.\n",
      "  \"10 in version 0.20 to 100 in 0.22.\", FutureWarning)\n"
     ]
    }
   ],
   "source": [
    "#Extra Trees Regressor\n",
    "regressor_model = ExtraTreesRegressor()\n",
    "regressor_model.fit(X_train,y_train)\n",
    "y_pred = regressor_model.predict(X_test)\n"
   ]
  },
  {
   "cell_type": "code",
   "execution_count": 40,
   "metadata": {},
   "outputs": [
    {
     "data": {
      "text/plain": [
       "0.9430701355353369"
      ]
     },
     "execution_count": 40,
     "metadata": {},
     "output_type": "execute_result"
    }
   ],
   "source": [
    "regressor_model.score(X_test,y_test)"
   ]
  },
  {
   "cell_type": "code",
   "execution_count": 35,
   "metadata": {},
   "outputs": [
    {
     "data": {
      "text/plain": [
       "12.207823783053664"
      ]
     },
     "execution_count": 35,
     "metadata": {},
     "output_type": "execute_result"
    }
   ],
   "source": [
    "mean_absolute_error(y_test,y_pred)"
   ]
  },
  {
   "cell_type": "code",
   "execution_count": 36,
   "metadata": {},
   "outputs": [
    {
     "data": {
      "text/plain": [
       "17.44016949816509"
      ]
     },
     "execution_count": 36,
     "metadata": {},
     "output_type": "execute_result"
    }
   ],
   "source": [
    "sqrt(mean_squared_error(y_test, y_pred))"
   ]
  },
  {
   "cell_type": "code",
   "execution_count": 53,
   "metadata": {},
   "outputs": [
    {
     "name": "stderr",
     "output_type": "stream",
     "text": [
      "D:\\Anaconda3\\lib\\site-packages\\sklearn\\ensemble\\forest.py:246: FutureWarning: The default value of n_estimators will change from 10 in version 0.20 to 100 in 0.22.\n",
      "  \"10 in version 0.20 to 100 in 0.22.\", FutureWarning)\n"
     ]
    }
   ],
   "source": [
    "#Random forest regressor\n",
    "regressor_model = RandomForestRegressor()\n",
    "regressor_model.fit(X_train,y_train)\n",
    "y_pred = regressor_model.predict(X_test)"
   ]
  },
  {
   "cell_type": "code",
   "execution_count": 54,
   "metadata": {},
   "outputs": [
    {
     "data": {
      "text/plain": [
       "0.9433212424181393"
      ]
     },
     "execution_count": 54,
     "metadata": {},
     "output_type": "execute_result"
    }
   ],
   "source": [
    "regressor_model.score(X_test,y_test)"
   ]
  },
  {
   "cell_type": "code",
   "execution_count": 55,
   "metadata": {},
   "outputs": [
    {
     "data": {
      "text/plain": [
       "12.191132415041968"
      ]
     },
     "execution_count": 55,
     "metadata": {},
     "output_type": "execute_result"
    }
   ],
   "source": [
    "mean_absolute_error(y_test,y_pred)"
   ]
  },
  {
   "cell_type": "code",
   "execution_count": 56,
   "metadata": {},
   "outputs": [
    {
     "data": {
      "text/plain": [
       "17.3884736767423"
      ]
     },
     "execution_count": 56,
     "metadata": {},
     "output_type": "execute_result"
    }
   ],
   "source": [
    "sqrt(mean_squared_error(y_test, y_pred))"
   ]
  },
  {
   "cell_type": "code",
   "execution_count": 39,
   "metadata": {},
   "outputs": [],
   "source": [
    "import matplotlib.pyplot as plt\n",
    "%matplotlib inline"
   ]
  },
  {
   "cell_type": "code",
   "execution_count": 40,
   "metadata": {},
   "outputs": [],
   "source": [
    "import seaborn as sns"
   ]
  },
  {
   "cell_type": "code",
   "execution_count": 28,
   "metadata": {},
   "outputs": [],
   "source": [
    "plottingdf = pd.DataFrame()\n"
   ]
  },
  {
   "cell_type": "code",
   "execution_count": 29,
   "metadata": {},
   "outputs": [],
   "source": [
    "Arrtest = np.asarray(y_test, dtype=np.float32)"
   ]
  },
  {
   "cell_type": "code",
   "execution_count": 30,
   "metadata": {},
   "outputs": [],
   "source": [
    "plottingdf['Actual'] = Arrtest\n",
    "plottingdf['Predicted'] = y_pred\n",
    "plottingdf['Index'] = np.arange(len(y_pred))"
   ]
  },
  {
   "cell_type": "code",
   "execution_count": 31,
   "metadata": {},
   "outputs": [
    {
     "data": {
      "text/plain": [
       "array([19., 86., 18., ..., 68., 32., 45.], dtype=float32)"
      ]
     },
     "execution_count": 31,
     "metadata": {},
     "output_type": "execute_result"
    }
   ],
   "source": [
    "Arrtest"
   ]
  },
  {
   "cell_type": "code",
   "execution_count": 32,
   "metadata": {},
   "outputs": [
    {
     "data": {
      "text/plain": [
       "True"
      ]
     },
     "execution_count": 32,
     "metadata": {},
     "output_type": "execute_result"
    }
   ],
   "source": [
    "len(y_test) == len(y_pred)"
   ]
  },
  {
   "cell_type": "code",
   "execution_count": 33,
   "metadata": {},
   "outputs": [
    {
     "data": {
      "text/html": [
       "<div>\n",
       "<style scoped>\n",
       "    .dataframe tbody tr th:only-of-type {\n",
       "        vertical-align: middle;\n",
       "    }\n",
       "\n",
       "    .dataframe tbody tr th {\n",
       "        vertical-align: top;\n",
       "    }\n",
       "\n",
       "    .dataframe thead th {\n",
       "        text-align: right;\n",
       "    }\n",
       "</style>\n",
       "<table border=\"1\" class=\"dataframe\">\n",
       "  <thead>\n",
       "    <tr style=\"text-align: right;\">\n",
       "      <th></th>\n",
       "      <th>Actual</th>\n",
       "      <th>Predicted</th>\n",
       "      <th>Index</th>\n",
       "    </tr>\n",
       "  </thead>\n",
       "  <tbody>\n",
       "    <tr>\n",
       "      <th>0</th>\n",
       "      <td>19.0</td>\n",
       "      <td>54.765476</td>\n",
       "      <td>0</td>\n",
       "    </tr>\n",
       "    <tr>\n",
       "      <th>1</th>\n",
       "      <td>86.0</td>\n",
       "      <td>56.369431</td>\n",
       "      <td>1</td>\n",
       "    </tr>\n",
       "    <tr>\n",
       "      <th>2</th>\n",
       "      <td>18.0</td>\n",
       "      <td>53.378799</td>\n",
       "      <td>2</td>\n",
       "    </tr>\n",
       "    <tr>\n",
       "      <th>3</th>\n",
       "      <td>19.0</td>\n",
       "      <td>63.005962</td>\n",
       "      <td>3</td>\n",
       "    </tr>\n",
       "    <tr>\n",
       "      <th>4</th>\n",
       "      <td>119.0</td>\n",
       "      <td>63.086143</td>\n",
       "      <td>4</td>\n",
       "    </tr>\n",
       "    <tr>\n",
       "      <th>5</th>\n",
       "      <td>34.0</td>\n",
       "      <td>56.759068</td>\n",
       "      <td>5</td>\n",
       "    </tr>\n",
       "    <tr>\n",
       "      <th>6</th>\n",
       "      <td>120.0</td>\n",
       "      <td>78.009872</td>\n",
       "      <td>6</td>\n",
       "    </tr>\n",
       "    <tr>\n",
       "      <th>7</th>\n",
       "      <td>35.0</td>\n",
       "      <td>50.957325</td>\n",
       "      <td>7</td>\n",
       "    </tr>\n",
       "    <tr>\n",
       "      <th>8</th>\n",
       "      <td>171.0</td>\n",
       "      <td>61.692005</td>\n",
       "      <td>8</td>\n",
       "    </tr>\n",
       "    <tr>\n",
       "      <th>9</th>\n",
       "      <td>22.0</td>\n",
       "      <td>48.311680</td>\n",
       "      <td>9</td>\n",
       "    </tr>\n",
       "    <tr>\n",
       "      <th>10</th>\n",
       "      <td>24.0</td>\n",
       "      <td>59.661102</td>\n",
       "      <td>10</td>\n",
       "    </tr>\n",
       "    <tr>\n",
       "      <th>11</th>\n",
       "      <td>181.0</td>\n",
       "      <td>53.272003</td>\n",
       "      <td>11</td>\n",
       "    </tr>\n",
       "    <tr>\n",
       "      <th>12</th>\n",
       "      <td>43.0</td>\n",
       "      <td>77.296509</td>\n",
       "      <td>12</td>\n",
       "    </tr>\n",
       "    <tr>\n",
       "      <th>13</th>\n",
       "      <td>22.0</td>\n",
       "      <td>79.421524</td>\n",
       "      <td>13</td>\n",
       "    </tr>\n",
       "    <tr>\n",
       "      <th>14</th>\n",
       "      <td>41.0</td>\n",
       "      <td>67.644257</td>\n",
       "      <td>14</td>\n",
       "    </tr>\n",
       "    <tr>\n",
       "      <th>15</th>\n",
       "      <td>23.0</td>\n",
       "      <td>54.375252</td>\n",
       "      <td>15</td>\n",
       "    </tr>\n",
       "    <tr>\n",
       "      <th>16</th>\n",
       "      <td>15.0</td>\n",
       "      <td>55.436810</td>\n",
       "      <td>16</td>\n",
       "    </tr>\n",
       "    <tr>\n",
       "      <th>17</th>\n",
       "      <td>15.0</td>\n",
       "      <td>57.362415</td>\n",
       "      <td>17</td>\n",
       "    </tr>\n",
       "    <tr>\n",
       "      <th>18</th>\n",
       "      <td>72.0</td>\n",
       "      <td>60.836830</td>\n",
       "      <td>18</td>\n",
       "    </tr>\n",
       "    <tr>\n",
       "      <th>19</th>\n",
       "      <td>69.0</td>\n",
       "      <td>72.481079</td>\n",
       "      <td>19</td>\n",
       "    </tr>\n",
       "    <tr>\n",
       "      <th>20</th>\n",
       "      <td>48.0</td>\n",
       "      <td>58.646843</td>\n",
       "      <td>20</td>\n",
       "    </tr>\n",
       "    <tr>\n",
       "      <th>21</th>\n",
       "      <td>75.0</td>\n",
       "      <td>55.444233</td>\n",
       "      <td>21</td>\n",
       "    </tr>\n",
       "    <tr>\n",
       "      <th>22</th>\n",
       "      <td>47.0</td>\n",
       "      <td>63.580257</td>\n",
       "      <td>22</td>\n",
       "    </tr>\n",
       "    <tr>\n",
       "      <th>23</th>\n",
       "      <td>127.0</td>\n",
       "      <td>82.529251</td>\n",
       "      <td>23</td>\n",
       "    </tr>\n",
       "    <tr>\n",
       "      <th>24</th>\n",
       "      <td>119.0</td>\n",
       "      <td>56.075676</td>\n",
       "      <td>24</td>\n",
       "    </tr>\n",
       "    <tr>\n",
       "      <th>25</th>\n",
       "      <td>111.0</td>\n",
       "      <td>63.822250</td>\n",
       "      <td>25</td>\n",
       "    </tr>\n",
       "    <tr>\n",
       "      <th>26</th>\n",
       "      <td>133.0</td>\n",
       "      <td>68.178741</td>\n",
       "      <td>26</td>\n",
       "    </tr>\n",
       "    <tr>\n",
       "      <th>27</th>\n",
       "      <td>16.0</td>\n",
       "      <td>56.049839</td>\n",
       "      <td>27</td>\n",
       "    </tr>\n",
       "    <tr>\n",
       "      <th>28</th>\n",
       "      <td>84.0</td>\n",
       "      <td>70.290504</td>\n",
       "      <td>28</td>\n",
       "    </tr>\n",
       "    <tr>\n",
       "      <th>29</th>\n",
       "      <td>160.0</td>\n",
       "      <td>72.339806</td>\n",
       "      <td>29</td>\n",
       "    </tr>\n",
       "    <tr>\n",
       "      <th>...</th>\n",
       "      <td>...</td>\n",
       "      <td>...</td>\n",
       "      <td>...</td>\n",
       "    </tr>\n",
       "    <tr>\n",
       "      <th>38468</th>\n",
       "      <td>84.0</td>\n",
       "      <td>87.113869</td>\n",
       "      <td>38468</td>\n",
       "    </tr>\n",
       "    <tr>\n",
       "      <th>38469</th>\n",
       "      <td>75.0</td>\n",
       "      <td>51.088219</td>\n",
       "      <td>38469</td>\n",
       "    </tr>\n",
       "    <tr>\n",
       "      <th>38470</th>\n",
       "      <td>17.0</td>\n",
       "      <td>62.146915</td>\n",
       "      <td>38470</td>\n",
       "    </tr>\n",
       "    <tr>\n",
       "      <th>38471</th>\n",
       "      <td>106.0</td>\n",
       "      <td>50.486149</td>\n",
       "      <td>38471</td>\n",
       "    </tr>\n",
       "    <tr>\n",
       "      <th>38472</th>\n",
       "      <td>88.0</td>\n",
       "      <td>57.568546</td>\n",
       "      <td>38472</td>\n",
       "    </tr>\n",
       "    <tr>\n",
       "      <th>38473</th>\n",
       "      <td>21.0</td>\n",
       "      <td>49.468338</td>\n",
       "      <td>38473</td>\n",
       "    </tr>\n",
       "    <tr>\n",
       "      <th>38474</th>\n",
       "      <td>15.0</td>\n",
       "      <td>95.321960</td>\n",
       "      <td>38474</td>\n",
       "    </tr>\n",
       "    <tr>\n",
       "      <th>38475</th>\n",
       "      <td>102.0</td>\n",
       "      <td>60.539974</td>\n",
       "      <td>38475</td>\n",
       "    </tr>\n",
       "    <tr>\n",
       "      <th>38476</th>\n",
       "      <td>49.0</td>\n",
       "      <td>57.307743</td>\n",
       "      <td>38476</td>\n",
       "    </tr>\n",
       "    <tr>\n",
       "      <th>38477</th>\n",
       "      <td>96.0</td>\n",
       "      <td>76.550789</td>\n",
       "      <td>38477</td>\n",
       "    </tr>\n",
       "    <tr>\n",
       "      <th>38478</th>\n",
       "      <td>173.0</td>\n",
       "      <td>90.304855</td>\n",
       "      <td>38478</td>\n",
       "    </tr>\n",
       "    <tr>\n",
       "      <th>38479</th>\n",
       "      <td>46.0</td>\n",
       "      <td>65.773888</td>\n",
       "      <td>38479</td>\n",
       "    </tr>\n",
       "    <tr>\n",
       "      <th>38480</th>\n",
       "      <td>231.0</td>\n",
       "      <td>56.278145</td>\n",
       "      <td>38480</td>\n",
       "    </tr>\n",
       "    <tr>\n",
       "      <th>38481</th>\n",
       "      <td>167.0</td>\n",
       "      <td>103.847923</td>\n",
       "      <td>38481</td>\n",
       "    </tr>\n",
       "    <tr>\n",
       "      <th>38482</th>\n",
       "      <td>26.0</td>\n",
       "      <td>50.899231</td>\n",
       "      <td>38482</td>\n",
       "    </tr>\n",
       "    <tr>\n",
       "      <th>38483</th>\n",
       "      <td>18.0</td>\n",
       "      <td>54.806858</td>\n",
       "      <td>38483</td>\n",
       "    </tr>\n",
       "    <tr>\n",
       "      <th>38484</th>\n",
       "      <td>22.0</td>\n",
       "      <td>52.492943</td>\n",
       "      <td>38484</td>\n",
       "    </tr>\n",
       "    <tr>\n",
       "      <th>38485</th>\n",
       "      <td>36.0</td>\n",
       "      <td>54.949192</td>\n",
       "      <td>38485</td>\n",
       "    </tr>\n",
       "    <tr>\n",
       "      <th>38486</th>\n",
       "      <td>26.0</td>\n",
       "      <td>53.619457</td>\n",
       "      <td>38486</td>\n",
       "    </tr>\n",
       "    <tr>\n",
       "      <th>38487</th>\n",
       "      <td>339.0</td>\n",
       "      <td>53.730110</td>\n",
       "      <td>38487</td>\n",
       "    </tr>\n",
       "    <tr>\n",
       "      <th>38488</th>\n",
       "      <td>48.0</td>\n",
       "      <td>57.964340</td>\n",
       "      <td>38488</td>\n",
       "    </tr>\n",
       "    <tr>\n",
       "      <th>38489</th>\n",
       "      <td>21.0</td>\n",
       "      <td>60.784359</td>\n",
       "      <td>38489</td>\n",
       "    </tr>\n",
       "    <tr>\n",
       "      <th>38490</th>\n",
       "      <td>85.0</td>\n",
       "      <td>52.413334</td>\n",
       "      <td>38490</td>\n",
       "    </tr>\n",
       "    <tr>\n",
       "      <th>38491</th>\n",
       "      <td>26.0</td>\n",
       "      <td>61.516338</td>\n",
       "      <td>38491</td>\n",
       "    </tr>\n",
       "    <tr>\n",
       "      <th>38492</th>\n",
       "      <td>82.0</td>\n",
       "      <td>55.455513</td>\n",
       "      <td>38492</td>\n",
       "    </tr>\n",
       "    <tr>\n",
       "      <th>38493</th>\n",
       "      <td>230.0</td>\n",
       "      <td>68.715927</td>\n",
       "      <td>38493</td>\n",
       "    </tr>\n",
       "    <tr>\n",
       "      <th>38494</th>\n",
       "      <td>227.0</td>\n",
       "      <td>77.570816</td>\n",
       "      <td>38494</td>\n",
       "    </tr>\n",
       "    <tr>\n",
       "      <th>38495</th>\n",
       "      <td>68.0</td>\n",
       "      <td>73.485695</td>\n",
       "      <td>38495</td>\n",
       "    </tr>\n",
       "    <tr>\n",
       "      <th>38496</th>\n",
       "      <td>32.0</td>\n",
       "      <td>59.927319</td>\n",
       "      <td>38496</td>\n",
       "    </tr>\n",
       "    <tr>\n",
       "      <th>38497</th>\n",
       "      <td>45.0</td>\n",
       "      <td>60.583218</td>\n",
       "      <td>38497</td>\n",
       "    </tr>\n",
       "  </tbody>\n",
       "</table>\n",
       "<p>38498 rows × 3 columns</p>\n",
       "</div>"
      ],
      "text/plain": [
       "       Actual   Predicted  Index\n",
       "0        19.0   54.765476      0\n",
       "1        86.0   56.369431      1\n",
       "2        18.0   53.378799      2\n",
       "3        19.0   63.005962      3\n",
       "4       119.0   63.086143      4\n",
       "5        34.0   56.759068      5\n",
       "6       120.0   78.009872      6\n",
       "7        35.0   50.957325      7\n",
       "8       171.0   61.692005      8\n",
       "9        22.0   48.311680      9\n",
       "10       24.0   59.661102     10\n",
       "11      181.0   53.272003     11\n",
       "12       43.0   77.296509     12\n",
       "13       22.0   79.421524     13\n",
       "14       41.0   67.644257     14\n",
       "15       23.0   54.375252     15\n",
       "16       15.0   55.436810     16\n",
       "17       15.0   57.362415     17\n",
       "18       72.0   60.836830     18\n",
       "19       69.0   72.481079     19\n",
       "20       48.0   58.646843     20\n",
       "21       75.0   55.444233     21\n",
       "22       47.0   63.580257     22\n",
       "23      127.0   82.529251     23\n",
       "24      119.0   56.075676     24\n",
       "25      111.0   63.822250     25\n",
       "26      133.0   68.178741     26\n",
       "27       16.0   56.049839     27\n",
       "28       84.0   70.290504     28\n",
       "29      160.0   72.339806     29\n",
       "...       ...         ...    ...\n",
       "38468    84.0   87.113869  38468\n",
       "38469    75.0   51.088219  38469\n",
       "38470    17.0   62.146915  38470\n",
       "38471   106.0   50.486149  38471\n",
       "38472    88.0   57.568546  38472\n",
       "38473    21.0   49.468338  38473\n",
       "38474    15.0   95.321960  38474\n",
       "38475   102.0   60.539974  38475\n",
       "38476    49.0   57.307743  38476\n",
       "38477    96.0   76.550789  38477\n",
       "38478   173.0   90.304855  38478\n",
       "38479    46.0   65.773888  38479\n",
       "38480   231.0   56.278145  38480\n",
       "38481   167.0  103.847923  38481\n",
       "38482    26.0   50.899231  38482\n",
       "38483    18.0   54.806858  38483\n",
       "38484    22.0   52.492943  38484\n",
       "38485    36.0   54.949192  38485\n",
       "38486    26.0   53.619457  38486\n",
       "38487   339.0   53.730110  38487\n",
       "38488    48.0   57.964340  38488\n",
       "38489    21.0   60.784359  38489\n",
       "38490    85.0   52.413334  38490\n",
       "38491    26.0   61.516338  38491\n",
       "38492    82.0   55.455513  38492\n",
       "38493   230.0   68.715927  38493\n",
       "38494   227.0   77.570816  38494\n",
       "38495    68.0   73.485695  38495\n",
       "38496    32.0   59.927319  38496\n",
       "38497    45.0   60.583218  38497\n",
       "\n",
       "[38498 rows x 3 columns]"
      ]
     },
     "execution_count": 33,
     "metadata": {},
     "output_type": "execute_result"
    }
   ],
   "source": [
    "plottingdf"
   ]
  },
  {
   "cell_type": "code",
   "execution_count": 34,
   "metadata": {},
   "outputs": [],
   "source": [
    "pdf = plottingdf.sort_values(by = 'Actual', ascending = False)"
   ]
  },
  {
   "cell_type": "code",
   "execution_count": 35,
   "metadata": {},
   "outputs": [
    {
     "name": "stderr",
     "output_type": "stream",
     "text": [
      "D:\\Anaconda3\\lib\\site-packages\\ipykernel_launcher.py:2: SettingWithCopyWarning: \n",
      "A value is trying to be set on a copy of a slice from a DataFrame.\n",
      "Try using .loc[row_indexer,col_indexer] = value instead\n",
      "\n",
      "See the caveats in the documentation: http://pandas.pydata.org/pandas-docs/stable/indexing.html#indexing-view-versus-copy\n",
      "  \n"
     ]
    }
   ],
   "source": [
    "extremedf = pdf.head(50)\n",
    "extremedf['Index'] = np.arange(50)"
   ]
  },
  {
   "cell_type": "code",
   "execution_count": 36,
   "metadata": {},
   "outputs": [
    {
     "data": {
      "text/html": [
       "<div>\n",
       "<style scoped>\n",
       "    .dataframe tbody tr th:only-of-type {\n",
       "        vertical-align: middle;\n",
       "    }\n",
       "\n",
       "    .dataframe tbody tr th {\n",
       "        vertical-align: top;\n",
       "    }\n",
       "\n",
       "    .dataframe thead th {\n",
       "        text-align: right;\n",
       "    }\n",
       "</style>\n",
       "<table border=\"1\" class=\"dataframe\">\n",
       "  <thead>\n",
       "    <tr style=\"text-align: right;\">\n",
       "      <th></th>\n",
       "      <th>Actual</th>\n",
       "      <th>Predicted</th>\n",
       "      <th>Index</th>\n",
       "    </tr>\n",
       "  </thead>\n",
       "  <tbody>\n",
       "    <tr>\n",
       "      <th>2879</th>\n",
       "      <td>1567.0</td>\n",
       "      <td>57.720356</td>\n",
       "      <td>0</td>\n",
       "    </tr>\n",
       "    <tr>\n",
       "      <th>150</th>\n",
       "      <td>1438.0</td>\n",
       "      <td>52.560680</td>\n",
       "      <td>1</td>\n",
       "    </tr>\n",
       "    <tr>\n",
       "      <th>7889</th>\n",
       "      <td>1396.0</td>\n",
       "      <td>61.273388</td>\n",
       "      <td>2</td>\n",
       "    </tr>\n",
       "    <tr>\n",
       "      <th>16540</th>\n",
       "      <td>1394.0</td>\n",
       "      <td>49.299744</td>\n",
       "      <td>3</td>\n",
       "    </tr>\n",
       "    <tr>\n",
       "      <th>26783</th>\n",
       "      <td>1366.0</td>\n",
       "      <td>54.323956</td>\n",
       "      <td>4</td>\n",
       "    </tr>\n",
       "    <tr>\n",
       "      <th>17045</th>\n",
       "      <td>1355.0</td>\n",
       "      <td>83.717827</td>\n",
       "      <td>5</td>\n",
       "    </tr>\n",
       "    <tr>\n",
       "      <th>11930</th>\n",
       "      <td>1314.0</td>\n",
       "      <td>61.837593</td>\n",
       "      <td>6</td>\n",
       "    </tr>\n",
       "    <tr>\n",
       "      <th>948</th>\n",
       "      <td>1287.0</td>\n",
       "      <td>55.261097</td>\n",
       "      <td>7</td>\n",
       "    </tr>\n",
       "    <tr>\n",
       "      <th>21293</th>\n",
       "      <td>1184.0</td>\n",
       "      <td>73.036201</td>\n",
       "      <td>8</td>\n",
       "    </tr>\n",
       "    <tr>\n",
       "      <th>27792</th>\n",
       "      <td>1126.0</td>\n",
       "      <td>66.977867</td>\n",
       "      <td>9</td>\n",
       "    </tr>\n",
       "    <tr>\n",
       "      <th>27849</th>\n",
       "      <td>1116.0</td>\n",
       "      <td>64.806091</td>\n",
       "      <td>10</td>\n",
       "    </tr>\n",
       "    <tr>\n",
       "      <th>35489</th>\n",
       "      <td>1111.0</td>\n",
       "      <td>50.306236</td>\n",
       "      <td>11</td>\n",
       "    </tr>\n",
       "    <tr>\n",
       "      <th>7576</th>\n",
       "      <td>1105.0</td>\n",
       "      <td>65.221298</td>\n",
       "      <td>12</td>\n",
       "    </tr>\n",
       "    <tr>\n",
       "      <th>21400</th>\n",
       "      <td>1101.0</td>\n",
       "      <td>77.264496</td>\n",
       "      <td>13</td>\n",
       "    </tr>\n",
       "    <tr>\n",
       "      <th>18488</th>\n",
       "      <td>1071.0</td>\n",
       "      <td>65.290649</td>\n",
       "      <td>14</td>\n",
       "    </tr>\n",
       "    <tr>\n",
       "      <th>29772</th>\n",
       "      <td>1062.0</td>\n",
       "      <td>55.260281</td>\n",
       "      <td>15</td>\n",
       "    </tr>\n",
       "    <tr>\n",
       "      <th>23371</th>\n",
       "      <td>1055.0</td>\n",
       "      <td>74.877991</td>\n",
       "      <td>16</td>\n",
       "    </tr>\n",
       "    <tr>\n",
       "      <th>29073</th>\n",
       "      <td>1049.0</td>\n",
       "      <td>57.834652</td>\n",
       "      <td>17</td>\n",
       "    </tr>\n",
       "    <tr>\n",
       "      <th>37201</th>\n",
       "      <td>1048.0</td>\n",
       "      <td>90.425278</td>\n",
       "      <td>18</td>\n",
       "    </tr>\n",
       "    <tr>\n",
       "      <th>15220</th>\n",
       "      <td>1028.0</td>\n",
       "      <td>71.373940</td>\n",
       "      <td>19</td>\n",
       "    </tr>\n",
       "    <tr>\n",
       "      <th>25937</th>\n",
       "      <td>1022.0</td>\n",
       "      <td>57.125229</td>\n",
       "      <td>20</td>\n",
       "    </tr>\n",
       "    <tr>\n",
       "      <th>4871</th>\n",
       "      <td>1012.0</td>\n",
       "      <td>70.023346</td>\n",
       "      <td>21</td>\n",
       "    </tr>\n",
       "    <tr>\n",
       "      <th>4141</th>\n",
       "      <td>990.0</td>\n",
       "      <td>89.808929</td>\n",
       "      <td>22</td>\n",
       "    </tr>\n",
       "    <tr>\n",
       "      <th>15253</th>\n",
       "      <td>988.0</td>\n",
       "      <td>70.107376</td>\n",
       "      <td>23</td>\n",
       "    </tr>\n",
       "    <tr>\n",
       "      <th>20106</th>\n",
       "      <td>982.0</td>\n",
       "      <td>71.420738</td>\n",
       "      <td>24</td>\n",
       "    </tr>\n",
       "    <tr>\n",
       "      <th>287</th>\n",
       "      <td>976.0</td>\n",
       "      <td>81.717361</td>\n",
       "      <td>25</td>\n",
       "    </tr>\n",
       "    <tr>\n",
       "      <th>27638</th>\n",
       "      <td>976.0</td>\n",
       "      <td>55.784431</td>\n",
       "      <td>26</td>\n",
       "    </tr>\n",
       "    <tr>\n",
       "      <th>21164</th>\n",
       "      <td>961.0</td>\n",
       "      <td>65.750023</td>\n",
       "      <td>27</td>\n",
       "    </tr>\n",
       "    <tr>\n",
       "      <th>8137</th>\n",
       "      <td>959.0</td>\n",
       "      <td>59.902943</td>\n",
       "      <td>28</td>\n",
       "    </tr>\n",
       "    <tr>\n",
       "      <th>869</th>\n",
       "      <td>936.0</td>\n",
       "      <td>89.557320</td>\n",
       "      <td>29</td>\n",
       "    </tr>\n",
       "    <tr>\n",
       "      <th>16265</th>\n",
       "      <td>928.0</td>\n",
       "      <td>93.880478</td>\n",
       "      <td>30</td>\n",
       "    </tr>\n",
       "    <tr>\n",
       "      <th>25030</th>\n",
       "      <td>926.0</td>\n",
       "      <td>70.262917</td>\n",
       "      <td>31</td>\n",
       "    </tr>\n",
       "    <tr>\n",
       "      <th>5930</th>\n",
       "      <td>923.0</td>\n",
       "      <td>58.824173</td>\n",
       "      <td>32</td>\n",
       "    </tr>\n",
       "    <tr>\n",
       "      <th>37612</th>\n",
       "      <td>921.0</td>\n",
       "      <td>74.045013</td>\n",
       "      <td>33</td>\n",
       "    </tr>\n",
       "    <tr>\n",
       "      <th>24007</th>\n",
       "      <td>915.0</td>\n",
       "      <td>62.644253</td>\n",
       "      <td>34</td>\n",
       "    </tr>\n",
       "    <tr>\n",
       "      <th>25482</th>\n",
       "      <td>908.0</td>\n",
       "      <td>47.073868</td>\n",
       "      <td>35</td>\n",
       "    </tr>\n",
       "    <tr>\n",
       "      <th>36938</th>\n",
       "      <td>905.0</td>\n",
       "      <td>60.430859</td>\n",
       "      <td>36</td>\n",
       "    </tr>\n",
       "    <tr>\n",
       "      <th>20889</th>\n",
       "      <td>890.0</td>\n",
       "      <td>71.231735</td>\n",
       "      <td>37</td>\n",
       "    </tr>\n",
       "    <tr>\n",
       "      <th>20621</th>\n",
       "      <td>888.0</td>\n",
       "      <td>70.281311</td>\n",
       "      <td>38</td>\n",
       "    </tr>\n",
       "    <tr>\n",
       "      <th>26852</th>\n",
       "      <td>885.0</td>\n",
       "      <td>71.953201</td>\n",
       "      <td>39</td>\n",
       "    </tr>\n",
       "    <tr>\n",
       "      <th>6498</th>\n",
       "      <td>858.0</td>\n",
       "      <td>66.175949</td>\n",
       "      <td>40</td>\n",
       "    </tr>\n",
       "    <tr>\n",
       "      <th>15661</th>\n",
       "      <td>858.0</td>\n",
       "      <td>58.430042</td>\n",
       "      <td>41</td>\n",
       "    </tr>\n",
       "    <tr>\n",
       "      <th>28811</th>\n",
       "      <td>855.0</td>\n",
       "      <td>73.409386</td>\n",
       "      <td>42</td>\n",
       "    </tr>\n",
       "    <tr>\n",
       "      <th>14243</th>\n",
       "      <td>852.0</td>\n",
       "      <td>53.794403</td>\n",
       "      <td>43</td>\n",
       "    </tr>\n",
       "    <tr>\n",
       "      <th>1385</th>\n",
       "      <td>851.0</td>\n",
       "      <td>73.927200</td>\n",
       "      <td>44</td>\n",
       "    </tr>\n",
       "    <tr>\n",
       "      <th>6366</th>\n",
       "      <td>850.0</td>\n",
       "      <td>74.848999</td>\n",
       "      <td>45</td>\n",
       "    </tr>\n",
       "    <tr>\n",
       "      <th>34549</th>\n",
       "      <td>847.0</td>\n",
       "      <td>81.464310</td>\n",
       "      <td>46</td>\n",
       "    </tr>\n",
       "    <tr>\n",
       "      <th>5721</th>\n",
       "      <td>840.0</td>\n",
       "      <td>53.465641</td>\n",
       "      <td>47</td>\n",
       "    </tr>\n",
       "    <tr>\n",
       "      <th>2881</th>\n",
       "      <td>839.0</td>\n",
       "      <td>82.062752</td>\n",
       "      <td>48</td>\n",
       "    </tr>\n",
       "    <tr>\n",
       "      <th>30610</th>\n",
       "      <td>826.0</td>\n",
       "      <td>70.524467</td>\n",
       "      <td>49</td>\n",
       "    </tr>\n",
       "  </tbody>\n",
       "</table>\n",
       "</div>"
      ],
      "text/plain": [
       "       Actual  Predicted  Index\n",
       "2879   1567.0  57.720356      0\n",
       "150    1438.0  52.560680      1\n",
       "7889   1396.0  61.273388      2\n",
       "16540  1394.0  49.299744      3\n",
       "26783  1366.0  54.323956      4\n",
       "17045  1355.0  83.717827      5\n",
       "11930  1314.0  61.837593      6\n",
       "948    1287.0  55.261097      7\n",
       "21293  1184.0  73.036201      8\n",
       "27792  1126.0  66.977867      9\n",
       "27849  1116.0  64.806091     10\n",
       "35489  1111.0  50.306236     11\n",
       "7576   1105.0  65.221298     12\n",
       "21400  1101.0  77.264496     13\n",
       "18488  1071.0  65.290649     14\n",
       "29772  1062.0  55.260281     15\n",
       "23371  1055.0  74.877991     16\n",
       "29073  1049.0  57.834652     17\n",
       "37201  1048.0  90.425278     18\n",
       "15220  1028.0  71.373940     19\n",
       "25937  1022.0  57.125229     20\n",
       "4871   1012.0  70.023346     21\n",
       "4141    990.0  89.808929     22\n",
       "15253   988.0  70.107376     23\n",
       "20106   982.0  71.420738     24\n",
       "287     976.0  81.717361     25\n",
       "27638   976.0  55.784431     26\n",
       "21164   961.0  65.750023     27\n",
       "8137    959.0  59.902943     28\n",
       "869     936.0  89.557320     29\n",
       "16265   928.0  93.880478     30\n",
       "25030   926.0  70.262917     31\n",
       "5930    923.0  58.824173     32\n",
       "37612   921.0  74.045013     33\n",
       "24007   915.0  62.644253     34\n",
       "25482   908.0  47.073868     35\n",
       "36938   905.0  60.430859     36\n",
       "20889   890.0  71.231735     37\n",
       "20621   888.0  70.281311     38\n",
       "26852   885.0  71.953201     39\n",
       "6498    858.0  66.175949     40\n",
       "15661   858.0  58.430042     41\n",
       "28811   855.0  73.409386     42\n",
       "14243   852.0  53.794403     43\n",
       "1385    851.0  73.927200     44\n",
       "6366    850.0  74.848999     45\n",
       "34549   847.0  81.464310     46\n",
       "5721    840.0  53.465641     47\n",
       "2881    839.0  82.062752     48\n",
       "30610   826.0  70.524467     49"
      ]
     },
     "execution_count": 36,
     "metadata": {},
     "output_type": "execute_result"
    }
   ],
   "source": [
    "extremedf"
   ]
  },
  {
   "cell_type": "code",
   "execution_count": 41,
   "metadata": {},
   "outputs": [
    {
     "data": {
      "image/png": "[encoded data removed]",
      "text/plain": [
       "<Figure size 432x288 with 1 Axes>"
      ]
     },
     "metadata": {
      "needs_background": "light"
     },
     "output_type": "display_data"
    }
   ],
   "source": [
    "plt.scatter(extremedf['Index'], extremedf['Actual'])\n",
    "plt.plot(extremedf['Index'], extremedf['Predicted'], color='red')\n",
    "plt.show()"
   ]
  },
  {
   "cell_type": "code",
   "execution_count": 42,
   "metadata": {},
   "outputs": [
    {
     "data": {
      "text/plain": [
       "963.428"
      ]
     },
     "execution_count": 42,
     "metadata": {},
     "output_type": "execute_result"
    }
   ],
   "source": [
    "mean_absolute_error(extremedf['Actual'],extremedf['Predicted'])"
   ]
  },
  {
   "cell_type": "code",
   "execution_count": 43,
   "metadata": {},
   "outputs": [
    {
     "data": {
      "text/plain": [
       "981.2012089780567"
      ]
     },
     "execution_count": 43,
     "metadata": {},
     "output_type": "execute_result"
    }
   ],
   "source": [
    "sqrt(mean_squared_error(extremedf['Actual'],extremedf['Predicted']))"
   ]
  },
  {
   "cell_type": "code",
   "execution_count": 44,
   "metadata": {},
   "outputs": [
    {
     "name": "stderr",
     "output_type": "stream",
     "text": [
      "D:\\Anaconda3\\lib\\site-packages\\ipykernel_launcher.py:2: SettingWithCopyWarning: \n",
      "A value is trying to be set on a copy of a slice from a DataFrame.\n",
      "Try using .loc[row_indexer,col_indexer] = value instead\n",
      "\n",
      "See the caveats in the documentation: http://pandas.pydata.org/pandas-docs/stable/indexing.html#indexing-view-versus-copy\n",
      "  \n"
     ]
    }
   ],
   "source": [
    "lowextremedf = pdf.tail(50)\n",
    "lowextremedf['Index'] = np.arange(50)"
   ]
  },
  {
   "cell_type": "code",
   "execution_count": 45,
   "metadata": {},
   "outputs": [
    {
     "data": {
      "image/png": "[encoded data removed]",
      "text/plain": [
       "<Figure size 432x288 with 1 Axes>"
      ]
     },
     "metadata": {
      "needs_background": "light"
     },
     "output_type": "display_data"
    }
   ],
   "source": [
    "plt.scatter(lowextremedf['Index'], lowextremedf['Actual'])\n",
    "plt.plot(lowextremedf['Index'], lowextremedf['Predicted'], color='red')\n",
    "plt.show()"
   ]
  },
  {
   "cell_type": "code",
   "execution_count": 46,
   "metadata": {},
   "outputs": [
    {
     "data": {
      "text/plain": [
       "44.6901"
      ]
     },
     "execution_count": 46,
     "metadata": {},
     "output_type": "execute_result"
    }
   ],
   "source": [
    "mean_absolute_error(lowextremedf['Actual'], lowextremedf['Predicted'])"
   ]
  },
  {
   "cell_type": "code",
   "execution_count": 47,
   "metadata": {},
   "outputs": [
    {
     "data": {
      "text/plain": [
       "45.33265715450066"
      ]
     },
     "execution_count": 47,
     "metadata": {},
     "output_type": "execute_result"
    }
   ],
   "source": [
    "sqrt(mean_squared_error(lowextremedf['Actual'], lowextremedf['Predicted']))"
   ]
  },
  {
   "cell_type": "code",
   "execution_count": 48,
   "metadata": {},
   "outputs": [
    {
     "data": {
      "image/png": "[encoded data removed]",
      "text/plain": [
       "<Figure size 432x288 with 1 Axes>"
      ]
     },
     "metadata": {
      "needs_background": "light"
     },
     "output_type": "display_data"
    }
   ],
   "source": [
    "plt.scatter(plottingdf['Index'], plottingdf['Actual'])\n",
    "plt.plot(plottingdf['Index'], plottingdf['Predicted'], color='red')\n",
    "plt.show()"
   ]
  },
  {
   "cell_type": "code",
   "execution_count": 49,
   "metadata": {},
   "outputs": [
    {
     "data": {
      "text/plain": [
       "Index(['FlightDate', 'Quarter', 'Year', 'Month', 'DayofMonth', 'DepTime',\n",
       "       'DepDel15', 'CRSDepTime', 'DepDelayMinutes', 'OriginAirportID',\n",
       "       'Origin', 'DestAirportID', 'Dest', 'ArrTime', 'CRSArrTime', 'ArrDel15',\n",
       "       'ArrDelayMinutes', 'FlightArrDate', 'RoundedDepTime', 'RoundedArrTime',\n",
       "       'RoundedCRSDepTime', 'RoundedCRSArrTime', 'windspeedKmph_x',\n",
       "       'weatherCode_x', 'precipMM_x', 'WindGustKmph_x', 'pressure_x',\n",
       "       'cloudcover_x', 'winddirDegree_x', 'humidity_x', 'cloudcover.1_x',\n",
       "       'DewPointF_x', 'tempF_x', 'WindChillF_x', 'windspeedKmph_y',\n",
       "       'weatherCode_y', 'precipMM_y', 'WindGustKmph_y', 'pressure_y',\n",
       "       'cloudcover_y', 'winddirDegree_y', 'humidity_y', 'cloudcover.1_y',\n",
       "       'DewPointF_y', 'tempF_y', 'WindChillF_y', 'index'],\n",
       "      dtype='object')"
      ]
     },
     "execution_count": 49,
     "metadata": {},
     "output_type": "execute_result"
    }
   ],
   "source": [
    "df.keys()"
   ]
  },
  {
   "cell_type": "code",
   "execution_count": 50,
   "metadata": {},
   "outputs": [
    {
     "name": "stderr",
     "output_type": "stream",
     "text": [
      "D:\\Anaconda3\\lib\\site-packages\\scipy\\stats\\stats.py:1713: FutureWarning: Using a non-tuple sequence for multidimensional indexing is deprecated; use `arr[tuple(seq)]` instead of `arr[seq]`. In the future this will be interpreted as an array index, `arr[np.array(seq)]`, which will result either in an error or a different result.\n",
      "  return np.add.reduce(sorted[indexer] * weights, axis=axis) / sumval\n"
     ]
    },
    {
     "data": {
      "text/plain": [
       "<matplotlib.axes._subplots.AxesSubplot at 0x1ca06149ef0>"
      ]
     },
     "execution_count": 50,
     "metadata": {},
     "output_type": "execute_result"
    },
    {
     "data": {
      "image/png": "[encoded data removed]",
      "text/plain": [
       "<Figure size 432x288 with 1 Axes>"
      ]
     },
     "metadata": {
      "needs_background": "light"
     },
     "output_type": "display_data"
    }
   ],
   "source": [
    "sns.distplot(df['ArrDelayMinutes'], hist=True, kde=True, \n",
    "             bins=int(180/5), color = 'darkblue', \n",
    "             hist_kws={'edgecolor':'black'},\n",
    "             )"
   ]
  },
  {
   "cell_type": "code",
   "execution_count": null,
   "metadata": {},
   "outputs": [],
   "source": []
  },
  {
   "cell_type": "code",
   "execution_count": 51,
   "metadata": {},
   "outputs": [
    {
     "data": {
      "image/png": "[encoded data removed]",
      "text/plain": [
       "<Figure size 432x288 with 1 Axes>"
      ]
     },
     "metadata": {
      "needs_background": "light"
     },
     "output_type": "display_data"
    }
   ],
   "source": [
    "plt.boxplot(df.ArrDelayMinutes)\n",
    "plt.yscale('symlog', linthreshy = 100.)\n",
    "plt.ylabel('Arrival delay minutes')\n",
    "plt.show()"
   ]
  },
  {
   "cell_type": "code",
   "execution_count": 52,
   "metadata": {},
   "outputs": [
    {
     "name": "stdout",
     "output_type": "stream",
     "text": [
      "39.0\n"
     ]
    }
   ],
   "source": [
    "count = 0;\n",
    "for i in plottingdf.Actual.sort_values():\n",
    "    count += 1;\n",
    "    if(count == (38498 / 2)):\n",
    "        print(i)"
   ]
  },
  {
   "cell_type": "code",
   "execution_count": 53,
   "metadata": {},
   "outputs": [
    {
     "data": {
      "text/html": [
       "<div>\n",
       "<style scoped>\n",
       "    .dataframe tbody tr th:only-of-type {\n",
       "        vertical-align: middle;\n",
       "    }\n",
       "\n",
       "    .dataframe tbody tr th {\n",
       "        vertical-align: top;\n",
       "    }\n",
       "\n",
       "    .dataframe thead th {\n",
       "        text-align: right;\n",
       "    }\n",
       "</style>\n",
       "<table border=\"1\" class=\"dataframe\">\n",
       "  <thead>\n",
       "    <tr style=\"text-align: right;\">\n",
       "      <th></th>\n",
       "      <th>Actual</th>\n",
       "      <th>Predicted</th>\n",
       "      <th>Index</th>\n",
       "    </tr>\n",
       "  </thead>\n",
       "  <tbody>\n",
       "    <tr>\n",
       "      <th>count</th>\n",
       "      <td>38498.000000</td>\n",
       "      <td>38498.000000</td>\n",
       "      <td>38498.000000</td>\n",
       "    </tr>\n",
       "    <tr>\n",
       "      <th>mean</th>\n",
       "      <td>62.675282</td>\n",
       "      <td>62.715538</td>\n",
       "      <td>19248.500000</td>\n",
       "    </tr>\n",
       "    <tr>\n",
       "      <th>std</th>\n",
       "      <td>73.037788</td>\n",
       "      <td>10.614949</td>\n",
       "      <td>11113.559668</td>\n",
       "    </tr>\n",
       "    <tr>\n",
       "      <th>min</th>\n",
       "      <td>15.000000</td>\n",
       "      <td>44.208336</td>\n",
       "      <td>0.000000</td>\n",
       "    </tr>\n",
       "    <tr>\n",
       "      <th>25%</th>\n",
       "      <td>23.000000</td>\n",
       "      <td>54.952909</td>\n",
       "      <td>9624.250000</td>\n",
       "    </tr>\n",
       "    <tr>\n",
       "      <th>50%</th>\n",
       "      <td>39.000000</td>\n",
       "      <td>60.330866</td>\n",
       "      <td>19248.500000</td>\n",
       "    </tr>\n",
       "    <tr>\n",
       "      <th>75%</th>\n",
       "      <td>74.000000</td>\n",
       "      <td>68.304382</td>\n",
       "      <td>28872.750000</td>\n",
       "    </tr>\n",
       "    <tr>\n",
       "      <th>max</th>\n",
       "      <td>1567.000000</td>\n",
       "      <td>213.912857</td>\n",
       "      <td>38497.000000</td>\n",
       "    </tr>\n",
       "  </tbody>\n",
       "</table>\n",
       "</div>"
      ],
      "text/plain": [
       "             Actual     Predicted         Index\n",
       "count  38498.000000  38498.000000  38498.000000\n",
       "mean      62.675282     62.715538  19248.500000\n",
       "std       73.037788     10.614949  11113.559668\n",
       "min       15.000000     44.208336      0.000000\n",
       "25%       23.000000     54.952909   9624.250000\n",
       "50%       39.000000     60.330866  19248.500000\n",
       "75%       74.000000     68.304382  28872.750000\n",
       "max     1567.000000    213.912857  38497.000000"
      ]
     },
     "execution_count": 53,
     "metadata": {},
     "output_type": "execute_result"
    }
   ],
   "source": [
    "plottingdf.describe()"
   ]
  },
  {
   "cell_type": "code",
   "execution_count": 54,
   "metadata": {},
   "outputs": [
    {
     "data": {
      "text/plain": [
       "array([5.10000000e+01, 1.33514729e+01, 1.92485000e+04])"
      ]
     },
     "execution_count": 54,
     "metadata": {},
     "output_type": "execute_result"
    }
   ],
   "source": [
    "#Interquartile range\n",
    "from scipy.stats import iqr\n",
    "iqr(plottingdf, axis = 0)"
   ]
  },
  {
   "cell_type": "code",
   "execution_count": 55,
   "metadata": {},
   "outputs": [],
   "source": [
    "# Since the density values of Arrival Delay minutes is high within the range (0,500)\n",
    "# We shall test to see how our model works in the aforementioned range\n"
   ]
  },
  {
   "cell_type": "code",
   "execution_count": 56,
   "metadata": {},
   "outputs": [
    {
     "name": "stdout",
     "output_type": "stream",
     "text": [
      "38361\n"
     ]
    }
   ],
   "source": [
    "count = 0;\n",
    "for i in plottingdf.Actual.sort_values():\n",
    "    count += 1;\n",
    "    if i >= 500:\n",
    "        print(count)\n",
    "        break;"
   ]
  },
  {
   "cell_type": "code",
   "execution_count": 57,
   "metadata": {},
   "outputs": [],
   "source": [
    "duplicate_df = pdf.tail(38361)\n"
   ]
  },
  {
   "cell_type": "code",
   "execution_count": 58,
   "metadata": {},
   "outputs": [
    {
     "data": {
      "text/html": [
       "<div>\n",
       "<style scoped>\n",
       "    .dataframe tbody tr th:only-of-type {\n",
       "        vertical-align: middle;\n",
       "    }\n",
       "\n",
       "    .dataframe tbody tr th {\n",
       "        vertical-align: top;\n",
       "    }\n",
       "\n",
       "    .dataframe thead th {\n",
       "        text-align: right;\n",
       "    }\n",
       "</style>\n",
       "<table border=\"1\" class=\"dataframe\">\n",
       "  <thead>\n",
       "    <tr style=\"text-align: right;\">\n",
       "      <th></th>\n",
       "      <th>Actual</th>\n",
       "      <th>Predicted</th>\n",
       "      <th>Index</th>\n",
       "    </tr>\n",
       "  </thead>\n",
       "  <tbody>\n",
       "    <tr>\n",
       "      <th>28288</th>\n",
       "      <td>501.0</td>\n",
       "      <td>58.201508</td>\n",
       "      <td>28288</td>\n",
       "    </tr>\n",
       "    <tr>\n",
       "      <th>1575</th>\n",
       "      <td>490.0</td>\n",
       "      <td>60.369625</td>\n",
       "      <td>1575</td>\n",
       "    </tr>\n",
       "    <tr>\n",
       "      <th>30517</th>\n",
       "      <td>489.0</td>\n",
       "      <td>58.325829</td>\n",
       "      <td>30517</td>\n",
       "    </tr>\n",
       "    <tr>\n",
       "      <th>6165</th>\n",
       "      <td>488.0</td>\n",
       "      <td>63.294231</td>\n",
       "      <td>6165</td>\n",
       "    </tr>\n",
       "    <tr>\n",
       "      <th>20412</th>\n",
       "      <td>486.0</td>\n",
       "      <td>74.447884</td>\n",
       "      <td>20412</td>\n",
       "    </tr>\n",
       "    <tr>\n",
       "      <th>7830</th>\n",
       "      <td>482.0</td>\n",
       "      <td>66.202072</td>\n",
       "      <td>7830</td>\n",
       "    </tr>\n",
       "    <tr>\n",
       "      <th>1777</th>\n",
       "      <td>482.0</td>\n",
       "      <td>55.755486</td>\n",
       "      <td>1777</td>\n",
       "    </tr>\n",
       "    <tr>\n",
       "      <th>30403</th>\n",
       "      <td>481.0</td>\n",
       "      <td>68.962379</td>\n",
       "      <td>30403</td>\n",
       "    </tr>\n",
       "    <tr>\n",
       "      <th>23560</th>\n",
       "      <td>480.0</td>\n",
       "      <td>74.642380</td>\n",
       "      <td>23560</td>\n",
       "    </tr>\n",
       "    <tr>\n",
       "      <th>37726</th>\n",
       "      <td>479.0</td>\n",
       "      <td>60.582661</td>\n",
       "      <td>37726</td>\n",
       "    </tr>\n",
       "    <tr>\n",
       "      <th>5074</th>\n",
       "      <td>477.0</td>\n",
       "      <td>51.318527</td>\n",
       "      <td>5074</td>\n",
       "    </tr>\n",
       "    <tr>\n",
       "      <th>10173</th>\n",
       "      <td>474.0</td>\n",
       "      <td>134.434448</td>\n",
       "      <td>10173</td>\n",
       "    </tr>\n",
       "    <tr>\n",
       "      <th>15700</th>\n",
       "      <td>474.0</td>\n",
       "      <td>60.015255</td>\n",
       "      <td>15700</td>\n",
       "    </tr>\n",
       "    <tr>\n",
       "      <th>14096</th>\n",
       "      <td>473.0</td>\n",
       "      <td>69.779541</td>\n",
       "      <td>14096</td>\n",
       "    </tr>\n",
       "    <tr>\n",
       "      <th>33024</th>\n",
       "      <td>472.0</td>\n",
       "      <td>72.591377</td>\n",
       "      <td>33024</td>\n",
       "    </tr>\n",
       "    <tr>\n",
       "      <th>29730</th>\n",
       "      <td>471.0</td>\n",
       "      <td>60.564732</td>\n",
       "      <td>29730</td>\n",
       "    </tr>\n",
       "    <tr>\n",
       "      <th>30592</th>\n",
       "      <td>470.0</td>\n",
       "      <td>64.000298</td>\n",
       "      <td>30592</td>\n",
       "    </tr>\n",
       "    <tr>\n",
       "      <th>34187</th>\n",
       "      <td>470.0</td>\n",
       "      <td>53.916836</td>\n",
       "      <td>34187</td>\n",
       "    </tr>\n",
       "    <tr>\n",
       "      <th>7786</th>\n",
       "      <td>468.0</td>\n",
       "      <td>53.618458</td>\n",
       "      <td>7786</td>\n",
       "    </tr>\n",
       "    <tr>\n",
       "      <th>19487</th>\n",
       "      <td>466.0</td>\n",
       "      <td>52.809376</td>\n",
       "      <td>19487</td>\n",
       "    </tr>\n",
       "    <tr>\n",
       "      <th>24312</th>\n",
       "      <td>466.0</td>\n",
       "      <td>63.939571</td>\n",
       "      <td>24312</td>\n",
       "    </tr>\n",
       "    <tr>\n",
       "      <th>37495</th>\n",
       "      <td>465.0</td>\n",
       "      <td>82.724129</td>\n",
       "      <td>37495</td>\n",
       "    </tr>\n",
       "    <tr>\n",
       "      <th>691</th>\n",
       "      <td>464.0</td>\n",
       "      <td>69.762642</td>\n",
       "      <td>691</td>\n",
       "    </tr>\n",
       "    <tr>\n",
       "      <th>15677</th>\n",
       "      <td>464.0</td>\n",
       "      <td>49.757118</td>\n",
       "      <td>15677</td>\n",
       "    </tr>\n",
       "    <tr>\n",
       "      <th>37839</th>\n",
       "      <td>463.0</td>\n",
       "      <td>55.960487</td>\n",
       "      <td>37839</td>\n",
       "    </tr>\n",
       "    <tr>\n",
       "      <th>27494</th>\n",
       "      <td>462.0</td>\n",
       "      <td>49.116276</td>\n",
       "      <td>27494</td>\n",
       "    </tr>\n",
       "    <tr>\n",
       "      <th>37837</th>\n",
       "      <td>457.0</td>\n",
       "      <td>95.612015</td>\n",
       "      <td>37837</td>\n",
       "    </tr>\n",
       "    <tr>\n",
       "      <th>25409</th>\n",
       "      <td>454.0</td>\n",
       "      <td>75.363403</td>\n",
       "      <td>25409</td>\n",
       "    </tr>\n",
       "    <tr>\n",
       "      <th>16815</th>\n",
       "      <td>454.0</td>\n",
       "      <td>70.389038</td>\n",
       "      <td>16815</td>\n",
       "    </tr>\n",
       "    <tr>\n",
       "      <th>16603</th>\n",
       "      <td>453.0</td>\n",
       "      <td>75.371078</td>\n",
       "      <td>16603</td>\n",
       "    </tr>\n",
       "    <tr>\n",
       "      <th>...</th>\n",
       "      <td>...</td>\n",
       "      <td>...</td>\n",
       "      <td>...</td>\n",
       "    </tr>\n",
       "    <tr>\n",
       "      <th>18136</th>\n",
       "      <td>15.0</td>\n",
       "      <td>53.955132</td>\n",
       "      <td>20</td>\n",
       "    </tr>\n",
       "    <tr>\n",
       "      <th>13017</th>\n",
       "      <td>15.0</td>\n",
       "      <td>57.700302</td>\n",
       "      <td>21</td>\n",
       "    </tr>\n",
       "    <tr>\n",
       "      <th>22102</th>\n",
       "      <td>15.0</td>\n",
       "      <td>59.544365</td>\n",
       "      <td>22</td>\n",
       "    </tr>\n",
       "    <tr>\n",
       "      <th>37076</th>\n",
       "      <td>15.0</td>\n",
       "      <td>64.413681</td>\n",
       "      <td>23</td>\n",
       "    </tr>\n",
       "    <tr>\n",
       "      <th>22117</th>\n",
       "      <td>15.0</td>\n",
       "      <td>48.353519</td>\n",
       "      <td>24</td>\n",
       "    </tr>\n",
       "    <tr>\n",
       "      <th>1147</th>\n",
       "      <td>15.0</td>\n",
       "      <td>63.068260</td>\n",
       "      <td>25</td>\n",
       "    </tr>\n",
       "    <tr>\n",
       "      <th>32143</th>\n",
       "      <td>15.0</td>\n",
       "      <td>71.419312</td>\n",
       "      <td>26</td>\n",
       "    </tr>\n",
       "    <tr>\n",
       "      <th>5063</th>\n",
       "      <td>15.0</td>\n",
       "      <td>54.972870</td>\n",
       "      <td>27</td>\n",
       "    </tr>\n",
       "    <tr>\n",
       "      <th>18059</th>\n",
       "      <td>15.0</td>\n",
       "      <td>62.117905</td>\n",
       "      <td>28</td>\n",
       "    </tr>\n",
       "    <tr>\n",
       "      <th>37112</th>\n",
       "      <td>15.0</td>\n",
       "      <td>58.347450</td>\n",
       "      <td>29</td>\n",
       "    </tr>\n",
       "    <tr>\n",
       "      <th>32169</th>\n",
       "      <td>15.0</td>\n",
       "      <td>56.105938</td>\n",
       "      <td>30</td>\n",
       "    </tr>\n",
       "    <tr>\n",
       "      <th>32173</th>\n",
       "      <td>15.0</td>\n",
       "      <td>72.211449</td>\n",
       "      <td>31</td>\n",
       "    </tr>\n",
       "    <tr>\n",
       "      <th>5033</th>\n",
       "      <td>15.0</td>\n",
       "      <td>61.102856</td>\n",
       "      <td>32</td>\n",
       "    </tr>\n",
       "    <tr>\n",
       "      <th>22181</th>\n",
       "      <td>15.0</td>\n",
       "      <td>51.663662</td>\n",
       "      <td>33</td>\n",
       "    </tr>\n",
       "    <tr>\n",
       "      <th>32207</th>\n",
       "      <td>15.0</td>\n",
       "      <td>54.922096</td>\n",
       "      <td>34</td>\n",
       "    </tr>\n",
       "    <tr>\n",
       "      <th>1131</th>\n",
       "      <td>15.0</td>\n",
       "      <td>62.254539</td>\n",
       "      <td>35</td>\n",
       "    </tr>\n",
       "    <tr>\n",
       "      <th>4990</th>\n",
       "      <td>15.0</td>\n",
       "      <td>49.783913</td>\n",
       "      <td>36</td>\n",
       "    </tr>\n",
       "    <tr>\n",
       "      <th>16026</th>\n",
       "      <td>15.0</td>\n",
       "      <td>59.546722</td>\n",
       "      <td>37</td>\n",
       "    </tr>\n",
       "    <tr>\n",
       "      <th>32221</th>\n",
       "      <td>15.0</td>\n",
       "      <td>68.387390</td>\n",
       "      <td>38</td>\n",
       "    </tr>\n",
       "    <tr>\n",
       "      <th>12903</th>\n",
       "      <td>15.0</td>\n",
       "      <td>59.341476</td>\n",
       "      <td>39</td>\n",
       "    </tr>\n",
       "    <tr>\n",
       "      <th>32239</th>\n",
       "      <td>15.0</td>\n",
       "      <td>60.405373</td>\n",
       "      <td>40</td>\n",
       "    </tr>\n",
       "    <tr>\n",
       "      <th>12910</th>\n",
       "      <td>15.0</td>\n",
       "      <td>65.828659</td>\n",
       "      <td>41</td>\n",
       "    </tr>\n",
       "    <tr>\n",
       "      <th>37091</th>\n",
       "      <td>15.0</td>\n",
       "      <td>52.425407</td>\n",
       "      <td>42</td>\n",
       "    </tr>\n",
       "    <tr>\n",
       "      <th>4950</th>\n",
       "      <td>15.0</td>\n",
       "      <td>50.172951</td>\n",
       "      <td>43</td>\n",
       "    </tr>\n",
       "    <tr>\n",
       "      <th>4949</th>\n",
       "      <td>15.0</td>\n",
       "      <td>70.626907</td>\n",
       "      <td>44</td>\n",
       "    </tr>\n",
       "    <tr>\n",
       "      <th>32268</th>\n",
       "      <td>15.0</td>\n",
       "      <td>62.477020</td>\n",
       "      <td>45</td>\n",
       "    </tr>\n",
       "    <tr>\n",
       "      <th>16002</th>\n",
       "      <td>15.0</td>\n",
       "      <td>58.869122</td>\n",
       "      <td>46</td>\n",
       "    </tr>\n",
       "    <tr>\n",
       "      <th>37081</th>\n",
       "      <td>15.0</td>\n",
       "      <td>60.942787</td>\n",
       "      <td>47</td>\n",
       "    </tr>\n",
       "    <tr>\n",
       "      <th>32269</th>\n",
       "      <td>15.0</td>\n",
       "      <td>45.335083</td>\n",
       "      <td>48</td>\n",
       "    </tr>\n",
       "    <tr>\n",
       "      <th>9316</th>\n",
       "      <td>15.0</td>\n",
       "      <td>56.738503</td>\n",
       "      <td>49</td>\n",
       "    </tr>\n",
       "  </tbody>\n",
       "</table>\n",
       "<p>38361 rows × 3 columns</p>\n",
       "</div>"
      ],
      "text/plain": [
       "       Actual   Predicted  Index\n",
       "28288   501.0   58.201508  28288\n",
       "1575    490.0   60.369625   1575\n",
       "30517   489.0   58.325829  30517\n",
       "6165    488.0   63.294231   6165\n",
       "20412   486.0   74.447884  20412\n",
       "7830    482.0   66.202072   7830\n",
       "1777    482.0   55.755486   1777\n",
       "30403   481.0   68.962379  30403\n",
       "23560   480.0   74.642380  23560\n",
       "37726   479.0   60.582661  37726\n",
       "5074    477.0   51.318527   5074\n",
       "10173   474.0  134.434448  10173\n",
       "15700   474.0   60.015255  15700\n",
       "14096   473.0   69.779541  14096\n",
       "33024   472.0   72.591377  33024\n",
       "29730   471.0   60.564732  29730\n",
       "30592   470.0   64.000298  30592\n",
       "34187   470.0   53.916836  34187\n",
       "7786    468.0   53.618458   7786\n",
       "19487   466.0   52.809376  19487\n",
       "24312   466.0   63.939571  24312\n",
       "37495   465.0   82.724129  37495\n",
       "691     464.0   69.762642    691\n",
       "15677   464.0   49.757118  15677\n",
       "37839   463.0   55.960487  37839\n",
       "27494   462.0   49.116276  27494\n",
       "37837   457.0   95.612015  37837\n",
       "25409   454.0   75.363403  25409\n",
       "16815   454.0   70.389038  16815\n",
       "16603   453.0   75.371078  16603\n",
       "...       ...         ...    ...\n",
       "18136    15.0   53.955132     20\n",
       "13017    15.0   57.700302     21\n",
       "22102    15.0   59.544365     22\n",
       "37076    15.0   64.413681     23\n",
       "22117    15.0   48.353519     24\n",
       "1147     15.0   63.068260     25\n",
       "32143    15.0   71.419312     26\n",
       "5063     15.0   54.972870     27\n",
       "18059    15.0   62.117905     28\n",
       "37112    15.0   58.347450     29\n",
       "32169    15.0   56.105938     30\n",
       "32173    15.0   72.211449     31\n",
       "5033     15.0   61.102856     32\n",
       "22181    15.0   51.663662     33\n",
       "32207    15.0   54.922096     34\n",
       "1131     15.0   62.254539     35\n",
       "4990     15.0   49.783913     36\n",
       "16026    15.0   59.546722     37\n",
       "32221    15.0   68.387390     38\n",
       "12903    15.0   59.341476     39\n",
       "32239    15.0   60.405373     40\n",
       "12910    15.0   65.828659     41\n",
       "37091    15.0   52.425407     42\n",
       "4950     15.0   50.172951     43\n",
       "4949     15.0   70.626907     44\n",
       "32268    15.0   62.477020     45\n",
       "16002    15.0   58.869122     46\n",
       "37081    15.0   60.942787     47\n",
       "32269    15.0   45.335083     48\n",
       "9316     15.0   56.738503     49\n",
       "\n",
       "[38361 rows x 3 columns]"
      ]
     },
     "execution_count": 58,
     "metadata": {},
     "output_type": "execute_result"
    }
   ],
   "source": [
    "duplicate_df"
   ]
  },
  {
   "cell_type": "code",
   "execution_count": 59,
   "metadata": {},
   "outputs": [
    {
     "data": {
      "image/png": "[encoded data removed]",
      "text/plain": [
       "<Figure size 432x288 with 1 Axes>"
      ]
     },
     "metadata": {
      "needs_background": "light"
     },
     "output_type": "display_data"
    }
   ],
   "source": [
    "plt.scatter(duplicate_df['Index'], duplicate_df['Actual'])\n",
    "plt.plot(duplicate_df['Index'], duplicate_df['Predicted'], color='red')\n",
    "plt.show()\n"
   ]
  },
  {
   "cell_type": "code",
   "execution_count": 60,
   "metadata": {},
   "outputs": [
    {
     "data": {
      "text/plain": [
       "39.754585"
      ]
     },
     "execution_count": 60,
     "metadata": {},
     "output_type": "execute_result"
    }
   ],
   "source": [
    "mean_absolute_error(duplicate_df['Actual'], duplicate_df['Predicted'])"
   ]
  },
  {
   "cell_type": "code",
   "execution_count": 61,
   "metadata": {},
   "outputs": [
    {
     "data": {
      "text/plain": [
       "56.577941607684"
      ]
     },
     "execution_count": 61,
     "metadata": {},
     "output_type": "execute_result"
    }
   ],
   "source": [
    "sqrt(mean_squared_error(duplicate_df['Actual'], duplicate_df['Predicted']))"
   ]
  },
  {
   "cell_type": "code",
   "execution_count": 62,
   "metadata": {},
   "outputs": [],
   "source": [
    "#Obtaining values belonging to interquartile range"
   ]
  },
  {
   "cell_type": "code",
   "execution_count": 63,
   "metadata": {},
   "outputs": [],
   "source": [
    "iqr_df = plottingdf[['Actual','Predicted','Index']][plottingdf['Actual'].between(plottingdf['Actual'].quantile(.25), plottingdf['Actual'].quantile(.75), inclusive=True)]"
   ]
  },
  {
   "cell_type": "code",
   "execution_count": 64,
   "metadata": {},
   "outputs": [
    {
     "data": {
      "text/html": [
       "<div>\n",
       "<style scoped>\n",
       "    .dataframe tbody tr th:only-of-type {\n",
       "        vertical-align: middle;\n",
       "    }\n",
       "\n",
       "    .dataframe tbody tr th {\n",
       "        vertical-align: top;\n",
       "    }\n",
       "\n",
       "    .dataframe thead th {\n",
       "        text-align: right;\n",
       "    }\n",
       "</style>\n",
       "<table border=\"1\" class=\"dataframe\">\n",
       "  <thead>\n",
       "    <tr style=\"text-align: right;\">\n",
       "      <th></th>\n",
       "      <th>Actual</th>\n",
       "      <th>Predicted</th>\n",
       "      <th>Index</th>\n",
       "    </tr>\n",
       "  </thead>\n",
       "  <tbody>\n",
       "    <tr>\n",
       "      <th>5</th>\n",
       "      <td>34.0</td>\n",
       "      <td>56.759068</td>\n",
       "      <td>5</td>\n",
       "    </tr>\n",
       "    <tr>\n",
       "      <th>7</th>\n",
       "      <td>35.0</td>\n",
       "      <td>50.957325</td>\n",
       "      <td>7</td>\n",
       "    </tr>\n",
       "    <tr>\n",
       "      <th>10</th>\n",
       "      <td>24.0</td>\n",
       "      <td>59.661102</td>\n",
       "      <td>10</td>\n",
       "    </tr>\n",
       "    <tr>\n",
       "      <th>12</th>\n",
       "      <td>43.0</td>\n",
       "      <td>77.296509</td>\n",
       "      <td>12</td>\n",
       "    </tr>\n",
       "    <tr>\n",
       "      <th>14</th>\n",
       "      <td>41.0</td>\n",
       "      <td>67.644257</td>\n",
       "      <td>14</td>\n",
       "    </tr>\n",
       "    <tr>\n",
       "      <th>15</th>\n",
       "      <td>23.0</td>\n",
       "      <td>54.375252</td>\n",
       "      <td>15</td>\n",
       "    </tr>\n",
       "    <tr>\n",
       "      <th>18</th>\n",
       "      <td>72.0</td>\n",
       "      <td>60.836830</td>\n",
       "      <td>18</td>\n",
       "    </tr>\n",
       "    <tr>\n",
       "      <th>19</th>\n",
       "      <td>69.0</td>\n",
       "      <td>72.481079</td>\n",
       "      <td>19</td>\n",
       "    </tr>\n",
       "    <tr>\n",
       "      <th>20</th>\n",
       "      <td>48.0</td>\n",
       "      <td>58.646843</td>\n",
       "      <td>20</td>\n",
       "    </tr>\n",
       "    <tr>\n",
       "      <th>22</th>\n",
       "      <td>47.0</td>\n",
       "      <td>63.580257</td>\n",
       "      <td>22</td>\n",
       "    </tr>\n",
       "    <tr>\n",
       "      <th>31</th>\n",
       "      <td>64.0</td>\n",
       "      <td>71.686279</td>\n",
       "      <td>31</td>\n",
       "    </tr>\n",
       "    <tr>\n",
       "      <th>32</th>\n",
       "      <td>33.0</td>\n",
       "      <td>85.384583</td>\n",
       "      <td>32</td>\n",
       "    </tr>\n",
       "    <tr>\n",
       "      <th>33</th>\n",
       "      <td>58.0</td>\n",
       "      <td>86.490829</td>\n",
       "      <td>33</td>\n",
       "    </tr>\n",
       "    <tr>\n",
       "      <th>34</th>\n",
       "      <td>36.0</td>\n",
       "      <td>60.471363</td>\n",
       "      <td>34</td>\n",
       "    </tr>\n",
       "    <tr>\n",
       "      <th>35</th>\n",
       "      <td>30.0</td>\n",
       "      <td>75.937859</td>\n",
       "      <td>35</td>\n",
       "    </tr>\n",
       "    <tr>\n",
       "      <th>40</th>\n",
       "      <td>24.0</td>\n",
       "      <td>52.961918</td>\n",
       "      <td>40</td>\n",
       "    </tr>\n",
       "    <tr>\n",
       "      <th>41</th>\n",
       "      <td>58.0</td>\n",
       "      <td>68.019524</td>\n",
       "      <td>41</td>\n",
       "    </tr>\n",
       "    <tr>\n",
       "      <th>43</th>\n",
       "      <td>26.0</td>\n",
       "      <td>53.824493</td>\n",
       "      <td>43</td>\n",
       "    </tr>\n",
       "    <tr>\n",
       "      <th>46</th>\n",
       "      <td>44.0</td>\n",
       "      <td>64.410988</td>\n",
       "      <td>46</td>\n",
       "    </tr>\n",
       "    <tr>\n",
       "      <th>49</th>\n",
       "      <td>39.0</td>\n",
       "      <td>58.525265</td>\n",
       "      <td>49</td>\n",
       "    </tr>\n",
       "    <tr>\n",
       "      <th>52</th>\n",
       "      <td>41.0</td>\n",
       "      <td>52.961037</td>\n",
       "      <td>52</td>\n",
       "    </tr>\n",
       "    <tr>\n",
       "      <th>57</th>\n",
       "      <td>26.0</td>\n",
       "      <td>61.901253</td>\n",
       "      <td>57</td>\n",
       "    </tr>\n",
       "    <tr>\n",
       "      <th>58</th>\n",
       "      <td>34.0</td>\n",
       "      <td>55.552025</td>\n",
       "      <td>58</td>\n",
       "    </tr>\n",
       "    <tr>\n",
       "      <th>59</th>\n",
       "      <td>23.0</td>\n",
       "      <td>61.005230</td>\n",
       "      <td>59</td>\n",
       "    </tr>\n",
       "    <tr>\n",
       "      <th>60</th>\n",
       "      <td>35.0</td>\n",
       "      <td>73.661873</td>\n",
       "      <td>60</td>\n",
       "    </tr>\n",
       "    <tr>\n",
       "      <th>61</th>\n",
       "      <td>60.0</td>\n",
       "      <td>59.107620</td>\n",
       "      <td>61</td>\n",
       "    </tr>\n",
       "    <tr>\n",
       "      <th>62</th>\n",
       "      <td>45.0</td>\n",
       "      <td>74.448685</td>\n",
       "      <td>62</td>\n",
       "    </tr>\n",
       "    <tr>\n",
       "      <th>65</th>\n",
       "      <td>44.0</td>\n",
       "      <td>54.550644</td>\n",
       "      <td>65</td>\n",
       "    </tr>\n",
       "    <tr>\n",
       "      <th>66</th>\n",
       "      <td>42.0</td>\n",
       "      <td>61.144676</td>\n",
       "      <td>66</td>\n",
       "    </tr>\n",
       "    <tr>\n",
       "      <th>67</th>\n",
       "      <td>34.0</td>\n",
       "      <td>56.724365</td>\n",
       "      <td>67</td>\n",
       "    </tr>\n",
       "    <tr>\n",
       "      <th>...</th>\n",
       "      <td>...</td>\n",
       "      <td>...</td>\n",
       "      <td>...</td>\n",
       "    </tr>\n",
       "    <tr>\n",
       "      <th>38432</th>\n",
       "      <td>29.0</td>\n",
       "      <td>56.555134</td>\n",
       "      <td>38432</td>\n",
       "    </tr>\n",
       "    <tr>\n",
       "      <th>38434</th>\n",
       "      <td>74.0</td>\n",
       "      <td>67.792099</td>\n",
       "      <td>38434</td>\n",
       "    </tr>\n",
       "    <tr>\n",
       "      <th>38439</th>\n",
       "      <td>70.0</td>\n",
       "      <td>62.172180</td>\n",
       "      <td>38439</td>\n",
       "    </tr>\n",
       "    <tr>\n",
       "      <th>38440</th>\n",
       "      <td>73.0</td>\n",
       "      <td>55.989674</td>\n",
       "      <td>38440</td>\n",
       "    </tr>\n",
       "    <tr>\n",
       "      <th>38441</th>\n",
       "      <td>23.0</td>\n",
       "      <td>67.419678</td>\n",
       "      <td>38441</td>\n",
       "    </tr>\n",
       "    <tr>\n",
       "      <th>38442</th>\n",
       "      <td>47.0</td>\n",
       "      <td>62.185699</td>\n",
       "      <td>38442</td>\n",
       "    </tr>\n",
       "    <tr>\n",
       "      <th>38444</th>\n",
       "      <td>35.0</td>\n",
       "      <td>56.472275</td>\n",
       "      <td>38444</td>\n",
       "    </tr>\n",
       "    <tr>\n",
       "      <th>38447</th>\n",
       "      <td>28.0</td>\n",
       "      <td>54.248661</td>\n",
       "      <td>38447</td>\n",
       "    </tr>\n",
       "    <tr>\n",
       "      <th>38449</th>\n",
       "      <td>43.0</td>\n",
       "      <td>73.808502</td>\n",
       "      <td>38449</td>\n",
       "    </tr>\n",
       "    <tr>\n",
       "      <th>38450</th>\n",
       "      <td>57.0</td>\n",
       "      <td>59.469666</td>\n",
       "      <td>38450</td>\n",
       "    </tr>\n",
       "    <tr>\n",
       "      <th>38451</th>\n",
       "      <td>36.0</td>\n",
       "      <td>72.903046</td>\n",
       "      <td>38451</td>\n",
       "    </tr>\n",
       "    <tr>\n",
       "      <th>38452</th>\n",
       "      <td>58.0</td>\n",
       "      <td>60.240505</td>\n",
       "      <td>38452</td>\n",
       "    </tr>\n",
       "    <tr>\n",
       "      <th>38454</th>\n",
       "      <td>31.0</td>\n",
       "      <td>72.177544</td>\n",
       "      <td>38454</td>\n",
       "    </tr>\n",
       "    <tr>\n",
       "      <th>38456</th>\n",
       "      <td>38.0</td>\n",
       "      <td>52.390091</td>\n",
       "      <td>38456</td>\n",
       "    </tr>\n",
       "    <tr>\n",
       "      <th>38457</th>\n",
       "      <td>27.0</td>\n",
       "      <td>71.193718</td>\n",
       "      <td>38457</td>\n",
       "    </tr>\n",
       "    <tr>\n",
       "      <th>38460</th>\n",
       "      <td>27.0</td>\n",
       "      <td>62.725540</td>\n",
       "      <td>38460</td>\n",
       "    </tr>\n",
       "    <tr>\n",
       "      <th>38461</th>\n",
       "      <td>45.0</td>\n",
       "      <td>71.744850</td>\n",
       "      <td>38461</td>\n",
       "    </tr>\n",
       "    <tr>\n",
       "      <th>38462</th>\n",
       "      <td>62.0</td>\n",
       "      <td>74.457787</td>\n",
       "      <td>38462</td>\n",
       "    </tr>\n",
       "    <tr>\n",
       "      <th>38463</th>\n",
       "      <td>34.0</td>\n",
       "      <td>64.531731</td>\n",
       "      <td>38463</td>\n",
       "    </tr>\n",
       "    <tr>\n",
       "      <th>38464</th>\n",
       "      <td>58.0</td>\n",
       "      <td>54.182053</td>\n",
       "      <td>38464</td>\n",
       "    </tr>\n",
       "    <tr>\n",
       "      <th>38476</th>\n",
       "      <td>49.0</td>\n",
       "      <td>57.307743</td>\n",
       "      <td>38476</td>\n",
       "    </tr>\n",
       "    <tr>\n",
       "      <th>38479</th>\n",
       "      <td>46.0</td>\n",
       "      <td>65.773888</td>\n",
       "      <td>38479</td>\n",
       "    </tr>\n",
       "    <tr>\n",
       "      <th>38482</th>\n",
       "      <td>26.0</td>\n",
       "      <td>50.899231</td>\n",
       "      <td>38482</td>\n",
       "    </tr>\n",
       "    <tr>\n",
       "      <th>38485</th>\n",
       "      <td>36.0</td>\n",
       "      <td>54.949192</td>\n",
       "      <td>38485</td>\n",
       "    </tr>\n",
       "    <tr>\n",
       "      <th>38486</th>\n",
       "      <td>26.0</td>\n",
       "      <td>53.619457</td>\n",
       "      <td>38486</td>\n",
       "    </tr>\n",
       "    <tr>\n",
       "      <th>38488</th>\n",
       "      <td>48.0</td>\n",
       "      <td>57.964340</td>\n",
       "      <td>38488</td>\n",
       "    </tr>\n",
       "    <tr>\n",
       "      <th>38491</th>\n",
       "      <td>26.0</td>\n",
       "      <td>61.516338</td>\n",
       "      <td>38491</td>\n",
       "    </tr>\n",
       "    <tr>\n",
       "      <th>38495</th>\n",
       "      <td>68.0</td>\n",
       "      <td>73.485695</td>\n",
       "      <td>38495</td>\n",
       "    </tr>\n",
       "    <tr>\n",
       "      <th>38496</th>\n",
       "      <td>32.0</td>\n",
       "      <td>59.927319</td>\n",
       "      <td>38496</td>\n",
       "    </tr>\n",
       "    <tr>\n",
       "      <th>38497</th>\n",
       "      <td>45.0</td>\n",
       "      <td>60.583218</td>\n",
       "      <td>38497</td>\n",
       "    </tr>\n",
       "  </tbody>\n",
       "</table>\n",
       "<p>20060 rows × 3 columns</p>\n",
       "</div>"
      ],
      "text/plain": [
       "       Actual  Predicted  Index\n",
       "5        34.0  56.759068      5\n",
       "7        35.0  50.957325      7\n",
       "10       24.0  59.661102     10\n",
       "12       43.0  77.296509     12\n",
       "14       41.0  67.644257     14\n",
       "15       23.0  54.375252     15\n",
       "18       72.0  60.836830     18\n",
       "19       69.0  72.481079     19\n",
       "20       48.0  58.646843     20\n",
       "22       47.0  63.580257     22\n",
       "31       64.0  71.686279     31\n",
       "32       33.0  85.384583     32\n",
       "33       58.0  86.490829     33\n",
       "34       36.0  60.471363     34\n",
       "35       30.0  75.937859     35\n",
       "40       24.0  52.961918     40\n",
       "41       58.0  68.019524     41\n",
       "43       26.0  53.824493     43\n",
       "46       44.0  64.410988     46\n",
       "49       39.0  58.525265     49\n",
       "52       41.0  52.961037     52\n",
       "57       26.0  61.901253     57\n",
       "58       34.0  55.552025     58\n",
       "59       23.0  61.005230     59\n",
       "60       35.0  73.661873     60\n",
       "61       60.0  59.107620     61\n",
       "62       45.0  74.448685     62\n",
       "65       44.0  54.550644     65\n",
       "66       42.0  61.144676     66\n",
       "67       34.0  56.724365     67\n",
       "...       ...        ...    ...\n",
       "38432    29.0  56.555134  38432\n",
       "38434    74.0  67.792099  38434\n",
       "38439    70.0  62.172180  38439\n",
       "38440    73.0  55.989674  38440\n",
       "38441    23.0  67.419678  38441\n",
       "38442    47.0  62.185699  38442\n",
       "38444    35.0  56.472275  38444\n",
       "38447    28.0  54.248661  38447\n",
       "38449    43.0  73.808502  38449\n",
       "38450    57.0  59.469666  38450\n",
       "38451    36.0  72.903046  38451\n",
       "38452    58.0  60.240505  38452\n",
       "38454    31.0  72.177544  38454\n",
       "38456    38.0  52.390091  38456\n",
       "38457    27.0  71.193718  38457\n",
       "38460    27.0  62.725540  38460\n",
       "38461    45.0  71.744850  38461\n",
       "38462    62.0  74.457787  38462\n",
       "38463    34.0  64.531731  38463\n",
       "38464    58.0  54.182053  38464\n",
       "38476    49.0  57.307743  38476\n",
       "38479    46.0  65.773888  38479\n",
       "38482    26.0  50.899231  38482\n",
       "38485    36.0  54.949192  38485\n",
       "38486    26.0  53.619457  38486\n",
       "38488    48.0  57.964340  38488\n",
       "38491    26.0  61.516338  38491\n",
       "38495    68.0  73.485695  38495\n",
       "38496    32.0  59.927319  38496\n",
       "38497    45.0  60.583218  38497\n",
       "\n",
       "[20060 rows x 3 columns]"
      ]
     },
     "execution_count": 64,
     "metadata": {},
     "output_type": "execute_result"
    }
   ],
   "source": [
    "iqr_df"
   ]
  },
  {
   "cell_type": "code",
   "execution_count": 65,
   "metadata": {},
   "outputs": [
    {
     "data": {
      "text/plain": [
       "22.869331"
      ]
     },
     "execution_count": 65,
     "metadata": {},
     "output_type": "execute_result"
    }
   ],
   "source": [
    "mean_absolute_error(iqr_df['Actual'], iqr_df['Predicted'])"
   ]
  },
  {
   "cell_type": "code",
   "execution_count": 66,
   "metadata": {},
   "outputs": [
    {
     "data": {
      "text/plain": [
       "26.707108666426482"
      ]
     },
     "execution_count": 66,
     "metadata": {},
     "output_type": "execute_result"
    }
   ],
   "source": [
    "sqrt(mean_squared_error(iqr_df['Actual'], iqr_df['Predicted']))"
   ]
  },
  {
   "cell_type": "code",
   "execution_count": 67,
   "metadata": {},
   "outputs": [
    {
     "data": {
      "image/png": "[encoded data removed]",
      "text/plain": [
       "<Figure size 432x288 with 1 Axes>"
      ]
     },
     "metadata": {
      "needs_background": "light"
     },
     "output_type": "display_data"
    }
   ],
   "source": [
    "iqr_df['Index'] = np.arange(len(iqr_df))\n",
    "plt.scatter(iqr_df['Index'], iqr_df['Actual'])\n",
    "plt.plot(iqr_df['Index'], iqr_df['Predicted'], color='red')\n",
    "plt.xscale('symlog', linthreshx = 10.)\n",
    "plt.show()"
   ]
  },
  {
   "cell_type": "code",
   "execution_count": null,
   "metadata": {},
   "outputs": [],
   "source": []
  }
 ],
 "metadata": {
  "kernelspec": {
   "display_name": "Python 3",
   "language": "python",
   "name": "python3"
  },
  "language_info": {
   "codemirror_mode": {
    "name": "ipython",
    "version": 3
   },
   "file_extension": ".py",
   "mimetype": "text/x-python",
   "name": "python",
   "nbconvert_exporter": "python",
   "pygments_lexer": "ipython3",
   "version": "3.7.1"
  }
 },
 "nbformat": 4,
 "nbformat_minor": 2
}
